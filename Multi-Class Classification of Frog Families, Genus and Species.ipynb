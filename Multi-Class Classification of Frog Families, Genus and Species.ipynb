{
 "cells": [
  {
   "cell_type": "markdown",
   "id": "96b476a5",
   "metadata": {
    "papermill": {
     "duration": 0.007807,
     "end_time": "2022-07-11T23:58:33.096181",
     "exception": false,
     "start_time": "2022-07-11T23:58:33.088374",
     "status": "completed"
    },
    "tags": []
   },
   "source": [
    "## Rafael Espinosa Mena\n",
    "USC ID: 3587389751 <br>\n",
    "GitHub Username: rafael6423 <br>\n",
    "DSCI 552 HW5 <br>\n",
    "Jun 26, 2022"
   ]
  },
  {
   "cell_type": "code",
   "execution_count": 1,
   "id": "0b464926",
   "metadata": {
    "_cell_guid": "b1076dfc-b9ad-4769-8c92-a6c4dae69d19",
    "_uuid": "8f2839f25d086af736a60e9eeb907d3b93b6e0e5",
    "execution": {
     "iopub.execute_input": "2022-07-11T23:58:33.112672Z",
     "iopub.status.busy": "2022-07-11T23:58:33.111957Z",
     "iopub.status.idle": "2022-07-11T23:58:34.604192Z",
     "shell.execute_reply": "2022-07-11T23:58:34.603009Z"
    },
    "papermill": {
     "duration": 1.503617,
     "end_time": "2022-07-11T23:58:34.607169",
     "exception": false,
     "start_time": "2022-07-11T23:58:33.103552",
     "status": "completed"
    },
    "tags": []
   },
   "outputs": [],
   "source": [
    "import numpy as np\n",
    "import pandas as pd\n",
    "from sklearn.multiclass import OneVsRestClassifier\n",
    "from sklearn.svm import SVC, LinearSVC\n",
    "from sklearn.model_selection import GridSearchCV\n",
    "from sklearn.model_selection import train_test_split\n",
    "from sklearn.metrics import hamming_loss, silhouette_score\n",
    "from sklearn.preprocessing import StandardScaler\n",
    "from imblearn.over_sampling import SMOTE\n",
    "from sklearn.cluster import KMeans\n",
    "from scipy.spatial.distance import hamming\n",
    "from tabulate import tabulate\n",
    "import time"
   ]
  },
  {
   "cell_type": "markdown",
   "id": "42de2610",
   "metadata": {
    "papermill": {
     "duration": 0.006223,
     "end_time": "2022-07-11T23:58:34.620416",
     "exception": false,
     "start_time": "2022-07-11T23:58:34.614193",
     "status": "completed"
    },
    "tags": []
   },
   "source": [
    "#### 1.a) Load Data and Separate it into Training and Test Set"
   ]
  },
  {
   "cell_type": "code",
   "execution_count": 2,
   "id": "30e00cc0",
   "metadata": {
    "execution": {
     "iopub.execute_input": "2022-07-11T23:58:34.643243Z",
     "iopub.status.busy": "2022-07-11T23:58:34.634827Z",
     "iopub.status.idle": "2022-07-11T23:58:34.833585Z",
     "shell.execute_reply": "2022-07-11T23:58:34.832436Z"
    },
    "papermill": {
     "duration": 0.209956,
     "end_time": "2022-07-11T23:58:34.836878",
     "exception": false,
     "start_time": "2022-07-11T23:58:34.626922",
     "status": "completed"
    },
    "tags": []
   },
   "outputs": [],
   "source": [
    "# read data, dropping RecordID as it is not useful\n",
    "data = pd.read_csv('../input/data-hw7/Frogs_MFCCs.csv').drop(['RecordID'], axis=1)\n",
    "\n",
    "# separate data into predictors and target variables\n",
    "x_data = data.iloc[:,:-3]\n",
    "y_data = data.iloc[:,-3:]\n",
    "\n",
    "# chose 70% of the data randomly as the training set\n",
    "x_train, x_test, y_train, y_test = train_test_split(x_data, y_data, test_size=0.3, random_state=0)\n",
    "\n",
    "# start recording time out of curiosity\n",
    "start = time.time()"
   ]
  },
  {
   "cell_type": "markdown",
   "id": "8b50be25",
   "metadata": {
    "papermill": {
     "duration": 0.007429,
     "end_time": "2022-07-11T23:58:34.855018",
     "exception": false,
     "start_time": "2022-07-11T23:58:34.847589",
     "status": "completed"
    },
    "tags": []
   },
   "source": [
    "#### 1.b.ii) Gaussian Kernel, One vs All SVM with 10-Fold CV"
   ]
  },
  {
   "cell_type": "code",
   "execution_count": 3,
   "id": "92c9a6ff",
   "metadata": {
    "execution": {
     "iopub.execute_input": "2022-07-11T23:58:34.872230Z",
     "iopub.status.busy": "2022-07-11T23:58:34.871259Z",
     "iopub.status.idle": "2022-07-11T23:58:34.882065Z",
     "shell.execute_reply": "2022-07-11T23:58:34.881288Z"
    },
    "papermill": {
     "duration": 0.021183,
     "end_time": "2022-07-11T23:58:34.884385",
     "exception": false,
     "start_time": "2022-07-11T23:58:34.863202",
     "status": "completed"
    },
    "tags": []
   },
   "outputs": [],
   "source": [
    "def Gaussian_SVMClassifier(label):\n",
    "    y_train_label = pd.DataFrame(y_train[label])\n",
    "    y_test_label = pd.DataFrame(y_test[label])\n",
    "    print(\"Gaussian SVM for\", label)\n",
    "\n",
    "    # make model and find parameters through cv\n",
    "    model = OneVsRestClassifier(SVC(kernel='rbf', random_state=0, tol=0.01))\n",
    "    parameters = {\"estimator__C\": np.logspace(-1,3,15), \"estimator__gamma\": np.linspace(0.1,5,20)}\n",
    "    model_cv = GridSearchCV(model, param_grid=parameters, cv=10, n_jobs=-1)\n",
    "    model_cv.fit(x_train, y_train_label)\n",
    "    \n",
    "    print(\"Best C (SVM Penalty) Found:\", model_cv.best_params_['estimator__C'])\n",
    "    print(\"Best Gamma (Width of Kernel) Found:\", model_cv.best_params_['estimator__gamma'])\n",
    "    print(\"CV Score:\", model_cv.best_score_)\n",
    "\n",
    "    # create model with found values for C and gamma and report results\n",
    "    best_model = SVC(kernel='rbf', random_state=0, tol=0.01, C=model_cv.best_params_['estimator__C'],\n",
    "                     gamma=model_cv.best_params_['estimator__gamma'])\n",
    "    best_model.fit(x_train, y_train_label.values.ravel())\n",
    "    print(\"Test Exact Match Score is\", best_model.score(x_test, y_test_label))\n",
    "\n",
    "    y_pred = best_model.predict(x_test)\n",
    "    print(\"Hamming Loss is\", hamming_loss(y_test_label, y_pred))"
   ]
  },
  {
   "cell_type": "code",
   "execution_count": 4,
   "id": "a717d563",
   "metadata": {
    "execution": {
     "iopub.execute_input": "2022-07-11T23:58:34.900055Z",
     "iopub.status.busy": "2022-07-11T23:58:34.899306Z",
     "iopub.status.idle": "2022-07-12T00:09:20.843000Z",
     "shell.execute_reply": "2022-07-12T00:09:20.841571Z"
    },
    "papermill": {
     "duration": 645.955315,
     "end_time": "2022-07-12T00:09:20.846434",
     "exception": false,
     "start_time": "2022-07-11T23:58:34.891119",
     "status": "completed"
    },
    "tags": []
   },
   "outputs": [
    {
     "name": "stdout",
     "output_type": "stream",
     "text": [
      "Gaussian SVM for Family\n",
      "Best C (SVM Penalty) Found: 37.27593720314938\n",
      "Best Gamma (Width of Kernel) Found: 2.936842105263158\n",
      "CV Score: 0.993247656915649\n",
      "Test Exact Match Score is 0.9962945808244558\n",
      "Hamming Loss is 0.0037054191755442334\n"
     ]
    }
   ],
   "source": [
    "# Family SVM\n",
    "Gaussian_SVMClassifier('Family')"
   ]
  },
  {
   "cell_type": "code",
   "execution_count": 5,
   "id": "6597d50b",
   "metadata": {
    "execution": {
     "iopub.execute_input": "2022-07-12T00:09:20.862834Z",
     "iopub.status.busy": "2022-07-12T00:09:20.862419Z",
     "iopub.status.idle": "2022-07-12T00:24:16.771754Z",
     "shell.execute_reply": "2022-07-12T00:24:16.769614Z"
    },
    "papermill": {
     "duration": 895.920606,
     "end_time": "2022-07-12T00:24:16.774440",
     "exception": false,
     "start_time": "2022-07-12T00:09:20.853834",
     "status": "completed"
    },
    "tags": []
   },
   "outputs": [
    {
     "name": "stdout",
     "output_type": "stream",
     "text": [
      "Gaussian SVM for Genus\n",
      "Best C (SVM Penalty) Found: 37.27593720314938\n",
      "Best Gamma (Width of Kernel) Found: 2.1631578947368424\n",
      "CV Score: 0.9908639433241818\n",
      "Test Exact Match Score is 0.9921259842519685\n",
      "Hamming Loss is 0.007874015748031496\n"
     ]
    }
   ],
   "source": [
    "# Genus SVM\n",
    "Gaussian_SVMClassifier('Genus')"
   ]
  },
  {
   "cell_type": "code",
   "execution_count": 6,
   "id": "306f5efe",
   "metadata": {
    "execution": {
     "iopub.execute_input": "2022-07-12T00:24:16.790960Z",
     "iopub.status.busy": "2022-07-12T00:24:16.790539Z",
     "iopub.status.idle": "2022-07-12T00:41:15.169063Z",
     "shell.execute_reply": "2022-07-12T00:41:15.167503Z"
    },
    "papermill": {
     "duration": 1018.39053,
     "end_time": "2022-07-12T00:41:15.172208",
     "exception": false,
     "start_time": "2022-07-12T00:24:16.781678",
     "status": "completed"
    },
    "tags": []
   },
   "outputs": [
    {
     "name": "stdout",
     "output_type": "stream",
     "text": [
      "Gaussian SVM for Species\n",
      "Best C (SVM Penalty) Found: 10.0\n",
      "Best Gamma (Width of Kernel) Found: 2.678947368421053\n",
      "CV Score: 0.9904675123860015\n",
      "Test Exact Match Score is 0.9916628068550255\n",
      "Hamming Loss is 0.008337193144974525\n"
     ]
    }
   ],
   "source": [
    "# Species SVM\n",
    "Gaussian_SVMClassifier('Species')"
   ]
  },
  {
   "cell_type": "markdown",
   "id": "6ddba9f2",
   "metadata": {
    "papermill": {
     "duration": 0.007816,
     "end_time": "2022-07-12T00:41:15.187904",
     "exception": false,
     "start_time": "2022-07-12T00:41:15.180088",
     "status": "completed"
    },
    "tags": []
   },
   "source": [
    "#### 1.b.iii) L1-Penalized SVMs Using One Vs All and 10-Fold CV"
   ]
  },
  {
   "cell_type": "code",
   "execution_count": 7,
   "id": "94e284b4",
   "metadata": {
    "execution": {
     "iopub.execute_input": "2022-07-12T00:41:15.205533Z",
     "iopub.status.busy": "2022-07-12T00:41:15.205134Z",
     "iopub.status.idle": "2022-07-12T00:41:15.224594Z",
     "shell.execute_reply": "2022-07-12T00:41:15.223445Z"
    },
    "papermill": {
     "duration": 0.031087,
     "end_time": "2022-07-12T00:41:15.227146",
     "exception": false,
     "start_time": "2022-07-12T00:41:15.196059",
     "status": "completed"
    },
    "tags": []
   },
   "outputs": [],
   "source": [
    "# standarize features\n",
    "scaler = StandardScaler()\n",
    "x_train = scaler.fit_transform(x_train)\n",
    "x_test = scaler.fit_transform(x_test)\n",
    "\n",
    "# function to create and train model using cv\n",
    "def L1Penalized_SVM(label):\n",
    "    y_train_label = pd.DataFrame(y_train[label])\n",
    "    y_test_label = pd.DataFrame(y_test[label])\n",
    "    print(\"L1-Penalized Linear SVM for\", label)\n",
    "\n",
    "    # make model and find parameters through cv\n",
    "    model = OneVsRestClassifier(LinearSVC(penalty = 'l1', random_state=0, tol=0.01, max_iter = 200000, dual=False))\n",
    "    parameters = {\"estimator__C\": np.logspace(-1,3,15)}\n",
    "    model_cv = GridSearchCV(model, param_grid=parameters, cv=10, n_jobs=-1)\n",
    "    model_cv.fit(x_train, y_train_label)\n",
    "\n",
    "    print(\"Best C (SVM Penalty) Found:\", model_cv.best_params_['estimator__C'])\n",
    "    print(\"CV Score:\", model_cv.best_score_)\n",
    "\n",
    "    # create model with found values for C and gamma and report results\n",
    "    best_model = SVC(kernel='rbf', random_state=0, tol=0.01, C=model_cv.best_params_['estimator__C'])\n",
    "    best_model.fit(x_train, y_train_label.values.ravel())\n",
    "    print(\"Test Exact Match Score is\", best_model.score(x_test, y_test_label))\n",
    "\n",
    "    y_pred = best_model.predict(x_test)\n",
    "    print(\"Hamming Loss is\", hamming_loss(y_test_label, y_pred))"
   ]
  },
  {
   "cell_type": "code",
   "execution_count": 8,
   "id": "2f4c9ed8",
   "metadata": {
    "execution": {
     "iopub.execute_input": "2022-07-12T00:41:15.243911Z",
     "iopub.status.busy": "2022-07-12T00:41:15.243528Z",
     "iopub.status.idle": "2022-07-12T00:41:44.596887Z",
     "shell.execute_reply": "2022-07-12T00:41:44.594831Z"
    },
    "papermill": {
     "duration": 29.364776,
     "end_time": "2022-07-12T00:41:44.599397",
     "exception": false,
     "start_time": "2022-07-12T00:41:15.234621",
     "status": "completed"
    },
    "tags": []
   },
   "outputs": [
    {
     "name": "stdout",
     "output_type": "stream",
     "text": [
      "L1-Penalized Linear SVM for Family\n",
      "Best C (SVM Penalty) Found: 5.17947467923121\n",
      "CV Score: 0.9370546561898452\n",
      "Test Exact Match Score is 0.9944418712366836\n",
      "Hamming Loss is 0.00555812876331635\n"
     ]
    }
   ],
   "source": [
    "# Family L1-Penalized Linear SVM\n",
    "L1Penalized_SVM('Family')"
   ]
  },
  {
   "cell_type": "code",
   "execution_count": 9,
   "id": "7b583c60",
   "metadata": {
    "execution": {
     "iopub.execute_input": "2022-07-12T00:41:44.616872Z",
     "iopub.status.busy": "2022-07-12T00:41:44.616507Z",
     "iopub.status.idle": "2022-07-12T00:42:46.578143Z",
     "shell.execute_reply": "2022-07-12T00:42:46.576404Z"
    },
    "papermill": {
     "duration": 61.973475,
     "end_time": "2022-07-12T00:42:46.580687",
     "exception": false,
     "start_time": "2022-07-12T00:41:44.607212",
     "status": "completed"
    },
    "tags": []
   },
   "outputs": [
    {
     "name": "stdout",
     "output_type": "stream",
     "text": [
      "L1-Penalized Linear SVM for Genus\n",
      "Best C (SVM Penalty) Found: 5.17947467923121\n",
      "CV Score: 0.9529363501530501\n",
      "Test Exact Match Score is 0.9925891616489115\n",
      "Hamming Loss is 0.007410838351088467\n"
     ]
    }
   ],
   "source": [
    "# Genus L1-Penalized Linear SVM\n",
    "L1Penalized_SVM('Genus')"
   ]
  },
  {
   "cell_type": "code",
   "execution_count": 10,
   "id": "0e44d72e",
   "metadata": {
    "execution": {
     "iopub.execute_input": "2022-07-12T00:42:46.599511Z",
     "iopub.status.busy": "2022-07-12T00:42:46.598445Z",
     "iopub.status.idle": "2022-07-12T00:43:57.036443Z",
     "shell.execute_reply": "2022-07-12T00:43:57.035326Z"
    },
    "papermill": {
     "duration": 70.450603,
     "end_time": "2022-07-12T00:43:57.039567",
     "exception": false,
     "start_time": "2022-07-12T00:42:46.588964",
     "status": "completed"
    },
    "tags": []
   },
   "outputs": [
    {
     "name": "stdout",
     "output_type": "stream",
     "text": [
      "L1-Penalized Linear SVM for Species\n",
      "Best C (SVM Penalty) Found: 2.6826957952797246\n",
      "CV Score: 0.9592898955473508\n",
      "Test Exact Match Score is 0.9907364520611394\n",
      "Hamming Loss is 0.009263547938860583\n"
     ]
    }
   ],
   "source": [
    "# Species L1-Penalized Linear SVM\n",
    "L1Penalized_SVM('Species')"
   ]
  },
  {
   "cell_type": "markdown",
   "id": "ab652a4d",
   "metadata": {
    "papermill": {
     "duration": 0.008212,
     "end_time": "2022-07-12T00:43:57.056401",
     "exception": false,
     "start_time": "2022-07-12T00:43:57.048189",
     "status": "completed"
    },
    "tags": []
   },
   "source": [
    "#### SMOTE L1-Penalized Linear SVMs"
   ]
  },
  {
   "cell_type": "code",
   "execution_count": 11,
   "id": "12ed2b67",
   "metadata": {
    "execution": {
     "iopub.execute_input": "2022-07-12T00:43:57.075205Z",
     "iopub.status.busy": "2022-07-12T00:43:57.074851Z",
     "iopub.status.idle": "2022-07-12T00:43:57.084919Z",
     "shell.execute_reply": "2022-07-12T00:43:57.084122Z"
    },
    "papermill": {
     "duration": 0.021787,
     "end_time": "2022-07-12T00:43:57.086828",
     "exception": false,
     "start_time": "2022-07-12T00:43:57.065041",
     "status": "completed"
    },
    "tags": []
   },
   "outputs": [],
   "source": [
    "def SMOTE_L1PenalizedSVM(label):\n",
    "    # apply smote on dataset\n",
    "    smote = SMOTE(random_state=0, n_jobs=-1)\n",
    "    y_train_label = pd.DataFrame(y_train['Family'])\n",
    "    x_train_smote, y_train_smote = smote.fit_resample(x_train, y_train_label)\n",
    "    y_test_label = pd.DataFrame(y_test['Family'])\n",
    "    print(\"SMOTE L1-Penalized Linear SVM for\", label)\n",
    "\n",
    "    # make model and find parameters through cv\n",
    "    model = OneVsRestClassifier(LinearSVC(penalty = 'l1', random_state=0, tol=0.01, max_iter = 200000, dual=False))\n",
    "    parameters = {\"estimator__C\": np.logspace(-1,3,15)}\n",
    "    model_cv = GridSearchCV(model, param_grid=parameters, cv=10, n_jobs=-1)\n",
    "    model_cv.fit(x_train_smote, y_train_smote)\n",
    "\n",
    "    print(\"Best C (SVM Penalty) Found:\", model_cv.best_params_['estimator__C'])\n",
    "    print(\"CV Score:\", model_cv.best_score_)\n",
    "\n",
    "    # create model with found values for C and gamma and report results\n",
    "    best_model = SVC(kernel='rbf', random_state=0, tol=0.01, C=model_cv.best_params_['estimator__C'])\n",
    "    best_model.fit(x_train_smote, y_train_smote.values.ravel())\n",
    "    print(\"Test Exact Match Score is\", best_model.score(x_test, y_test_label))\n",
    "\n",
    "    y_pred = best_model.predict(x_test)\n",
    "    print(\"Hamming Loss is\", hamming_loss(y_test_label, y_pred))"
   ]
  },
  {
   "cell_type": "code",
   "execution_count": 12,
   "id": "fe00010d",
   "metadata": {
    "execution": {
     "iopub.execute_input": "2022-07-12T00:43:57.105266Z",
     "iopub.status.busy": "2022-07-12T00:43:57.104736Z",
     "iopub.status.idle": "2022-07-12T00:45:26.760079Z",
     "shell.execute_reply": "2022-07-12T00:45:26.758779Z"
    },
    "papermill": {
     "duration": 89.667779,
     "end_time": "2022-07-12T00:45:26.762904",
     "exception": false,
     "start_time": "2022-07-12T00:43:57.095125",
     "status": "completed"
    },
    "tags": []
   },
   "outputs": [
    {
     "name": "stdout",
     "output_type": "stream",
     "text": [
      "SMOTE L1-Penalized Linear SVM for Family\n",
      "Best C (SVM Penalty) Found: 37.27593720314938\n",
      "CV Score: 0.9514232672459165\n",
      "Test Exact Match Score is 0.9949050486336267\n",
      "Hamming Loss is 0.005094951366373321\n"
     ]
    }
   ],
   "source": [
    "# SMOTE Family L1-Penalized Linear SVM\n",
    "SMOTE_L1PenalizedSVM('Family')"
   ]
  },
  {
   "cell_type": "code",
   "execution_count": 13,
   "id": "054aadc8",
   "metadata": {
    "execution": {
     "iopub.execute_input": "2022-07-12T00:45:26.783594Z",
     "iopub.status.busy": "2022-07-12T00:45:26.782717Z",
     "iopub.status.idle": "2022-07-12T00:46:56.087376Z",
     "shell.execute_reply": "2022-07-12T00:46:56.086081Z"
    },
    "papermill": {
     "duration": 89.318106,
     "end_time": "2022-07-12T00:46:56.090383",
     "exception": false,
     "start_time": "2022-07-12T00:45:26.772277",
     "status": "completed"
    },
    "tags": []
   },
   "outputs": [
    {
     "name": "stdout",
     "output_type": "stream",
     "text": [
      "SMOTE L1-Penalized Linear SVM for Genus\n",
      "Best C (SVM Penalty) Found: 37.27593720314938\n",
      "CV Score: 0.9514232672459165\n",
      "Test Exact Match Score is 0.9949050486336267\n",
      "Hamming Loss is 0.005094951366373321\n"
     ]
    }
   ],
   "source": [
    "# SMOTE Genus L1-Penalized Linear SVM\n",
    "SMOTE_L1PenalizedSVM('Genus')"
   ]
  },
  {
   "cell_type": "code",
   "execution_count": 14,
   "id": "800d21ff",
   "metadata": {
    "execution": {
     "iopub.execute_input": "2022-07-12T00:46:56.111585Z",
     "iopub.status.busy": "2022-07-12T00:46:56.110616Z",
     "iopub.status.idle": "2022-07-12T00:48:25.762573Z",
     "shell.execute_reply": "2022-07-12T00:48:25.761252Z"
    },
    "papermill": {
     "duration": 89.665598,
     "end_time": "2022-07-12T00:48:25.765312",
     "exception": false,
     "start_time": "2022-07-12T00:46:56.099714",
     "status": "completed"
    },
    "tags": []
   },
   "outputs": [
    {
     "name": "stdout",
     "output_type": "stream",
     "text": [
      "SMOTE L1-Penalized Linear SVM for Species\n",
      "Best C (SVM Penalty) Found: 37.27593720314938\n",
      "CV Score: 0.9514232672459165\n",
      "Test Exact Match Score is 0.9949050486336267\n",
      "Hamming Loss is 0.005094951366373321\n"
     ]
    }
   ],
   "source": [
    "# SMOTE Species L1-Penalized Linear SVM\n",
    "SMOTE_L1PenalizedSVM(\"Species\")"
   ]
  },
  {
   "cell_type": "markdown",
   "id": "3dc3155c",
   "metadata": {
    "papermill": {
     "duration": 0.009167,
     "end_time": "2022-07-12T00:48:25.783571",
     "exception": false,
     "start_time": "2022-07-12T00:48:25.774404",
     "status": "completed"
    },
    "tags": []
   },
   "source": [
    "#### 2.a) K-Means Clustering With Automatic K Selection Through Silhoutte Method"
   ]
  },
  {
   "cell_type": "code",
   "execution_count": 15,
   "id": "89cb8a28",
   "metadata": {
    "execution": {
     "iopub.execute_input": "2022-07-12T00:48:25.803906Z",
     "iopub.status.busy": "2022-07-12T00:48:25.803541Z",
     "iopub.status.idle": "2022-07-12T00:48:25.810582Z",
     "shell.execute_reply": "2022-07-12T00:48:25.809559Z"
    },
    "papermill": {
     "duration": 0.020165,
     "end_time": "2022-07-12T00:48:25.812990",
     "exception": false,
     "start_time": "2022-07-12T00:48:25.792825",
     "status": "completed"
    },
    "tags": []
   },
   "outputs": [],
   "source": [
    "# function to determine the optimal k\n",
    "def find_optimal_k(i):\n",
    "    best_score = -1\n",
    "    for k in range(2,51):\n",
    "        km = KMeans(n_clusters=k, random_state=i, tol=0.01)\n",
    "        km.fit_predict(x_data)\n",
    "        score = silhouette_score(x_data, km.labels_, metric='euclidean')\n",
    "        # select the k with best silhouette score\n",
    "        if score > best_score:\n",
    "            best_score = score\n",
    "            best_k = k\n",
    "            km_best = km\n",
    "    return km_best, best_k"
   ]
  },
  {
   "cell_type": "markdown",
   "id": "6e0da497",
   "metadata": {
    "papermill": {
     "duration": 0.00881,
     "end_time": "2022-07-12T00:48:25.831044",
     "exception": false,
     "start_time": "2022-07-12T00:48:25.822234",
     "status": "completed"
    },
    "tags": []
   },
   "source": [
    "#### 2.b) Determine Majority Family, Genus or Species in Each Cluster and Assign to Observation"
   ]
  },
  {
   "cell_type": "code",
   "execution_count": 16,
   "id": "e4564f11",
   "metadata": {
    "execution": {
     "iopub.execute_input": "2022-07-12T00:48:25.851390Z",
     "iopub.status.busy": "2022-07-12T00:48:25.850694Z",
     "iopub.status.idle": "2022-07-12T00:48:25.860972Z",
     "shell.execute_reply": "2022-07-12T00:48:25.860078Z"
    },
    "papermill": {
     "duration": 0.02302,
     "end_time": "2022-07-12T00:48:25.863089",
     "exception": false,
     "start_time": "2022-07-12T00:48:25.840069",
     "status": "completed"
    },
    "tags": []
   },
   "outputs": [],
   "source": [
    "def assign_cluster_to_label(label, km_model, best_k):\n",
    "    label_list = y_data[label].value_counts().reset_index()['index'].values\n",
    "    y = pd.DataFrame(y_data[label])\n",
    "    zero_mat = np.zeros((best_k,len(label_list)),dtype=int)\n",
    "    df = pd.DataFrame(zero_mat, columns=label_list)\n",
    "    # Separate observations into true group by reading labels\n",
    "    for cluster_num in range(0,best_k):\n",
    "        for i in range(0,len(km_model.labels_)):\n",
    "            if km_model.labels_[i] == cluster_num:\n",
    "                df.loc[cluster_num, y.iloc[i,0]] += 1\n",
    "    cluster_class = pd.DataFrame(np.zeros((best_k,1),dtype=int), columns=['cluster_type'])\n",
    "    y['predicted'] = 0\n",
    "    # determine which group is the majority in each cluster\n",
    "    for cluster_num in range(0,best_k):\n",
    "        max_col = df.iloc[cluster_num,:].idxmax()\n",
    "        for i in range(0, len(km_model.labels_)):\n",
    "            # create predicted labels for each observation based on cluster majority\n",
    "            if km_model.labels_[i] == cluster_num:\n",
    "                y.loc[i, 'predicted'] = max_col\n",
    "    return y"
   ]
  },
  {
   "cell_type": "markdown",
   "id": "a3abbead",
   "metadata": {
    "papermill": {
     "duration": 0.008871,
     "end_time": "2022-07-12T00:48:25.881032",
     "exception": false,
     "start_time": "2022-07-12T00:48:25.872161",
     "status": "completed"
    },
    "tags": []
   },
   "source": [
    "#### 2.c) Calculate Hamming Metrics"
   ]
  },
  {
   "cell_type": "code",
   "execution_count": 17,
   "id": "c1f809dc",
   "metadata": {
    "execution": {
     "iopub.execute_input": "2022-07-12T00:48:25.902089Z",
     "iopub.status.busy": "2022-07-12T00:48:25.901672Z",
     "iopub.status.idle": "2022-07-12T00:48:25.907436Z",
     "shell.execute_reply": "2022-07-12T00:48:25.906642Z"
    },
    "papermill": {
     "duration": 0.019329,
     "end_time": "2022-07-12T00:48:25.909491",
     "exception": false,
     "start_time": "2022-07-12T00:48:25.890162",
     "status": "completed"
    },
    "tags": []
   },
   "outputs": [],
   "source": [
    "# get 3 hamming metrics\n",
    "def hamming_metrics(label, pred):\n",
    "    hamming_distance = hamming(pred, y_data[label].values) * len(pred)\n",
    "    hamming_lo = hamming_loss(pred, y_data[label].values)\n",
    "    hamming_score = 1 - hamming_lo\n",
    "    return hamming_distance, hamming_score, hamming_lo"
   ]
  },
  {
   "cell_type": "markdown",
   "id": "2ca5a15b",
   "metadata": {
    "papermill": {
     "duration": 0.008717,
     "end_time": "2022-07-12T00:48:25.927324",
     "exception": false,
     "start_time": "2022-07-12T00:48:25.918607",
     "status": "completed"
    },
    "tags": []
   },
   "source": [
    "#### Run The Monte Carlo Procedure 50 Times and Report Average Hamming Metrics"
   ]
  },
  {
   "cell_type": "code",
   "execution_count": 18,
   "id": "9c7e4cc0",
   "metadata": {
    "execution": {
     "iopub.execute_input": "2022-07-12T00:48:25.948208Z",
     "iopub.status.busy": "2022-07-12T00:48:25.947546Z",
     "iopub.status.idle": "2022-07-12T02:52:03.580428Z",
     "shell.execute_reply": "2022-07-12T02:52:03.578277Z"
    },
    "papermill": {
     "duration": 7417.796323,
     "end_time": "2022-07-12T02:52:03.732656",
     "exception": false,
     "start_time": "2022-07-12T00:48:25.936333",
     "status": "completed"
    },
    "tags": []
   },
   "outputs": [
    {
     "name": "stdout",
     "output_type": "stream",
     "text": [
      "Monte-Carlo Simulation Results:\n",
      "\n",
      "Measurement           Average          Std\n",
      "----------------  -----------  -----------\n",
      "Hamming Distance  1629.69      214.507\n",
      "Hamming Score        0.773496    0.0298133\n",
      "Hamming Loss         0.226504    0.0298133\n"
     ]
    }
   ],
   "source": [
    "# create empty lists to store results\n",
    "hd_list = []\n",
    "hs_list = []\n",
    "hl_list = []\n",
    "x_data_0 = x_data\n",
    "y_data_0 = y_data \n",
    "\n",
    "# iterate through a list of 50 different random states\n",
    "np.random.seed(0)\n",
    "monte_carlo_iterations = np.random.randint(0,2**32 - 1,50)\n",
    "for iteration in monte_carlo_iterations:\n",
    "    x_data = x_data_0\n",
    "    km_best, best_k = find_optimal_k(iteration)\n",
    "    for label in ['Family', 'Genus', 'Species']:\n",
    "        y_data = y_data_0\n",
    "        y_df = assign_cluster_to_label(label, km_best, best_k)\n",
    "        # calculate and store results for every single iteration\n",
    "        hd, hs, hl = hamming_metrics(label, y_df['predicted'].values)\n",
    "        hd_list.append(hd)\n",
    "        hs_list.append(hs)\n",
    "        hl_list.append(hl)\n",
    "        \n",
    "# report the average and std of every metric\n",
    "data = [['Hamming Distance', np.array(hd_list).mean(), np.array(hd_list).std()],\n",
    "     ['Hamming Score', np.array(hs_list).mean(), np.array(hs_list).std()], \n",
    "     ['Hamming Loss', np.array(hl_list).mean(), np.array(hl_list).std()]]\n",
    "col_names = [\"Measurement\", \"Average\", \"Std\"]\n",
    "print(\"Monte-Carlo Simulation Results:\\n\")\n",
    "print(tabulate(data, headers=col_names))"
   ]
  },
  {
   "cell_type": "code",
   "execution_count": 19,
   "id": "96b00288",
   "metadata": {
    "execution": {
     "iopub.execute_input": "2022-07-12T02:52:03.754670Z",
     "iopub.status.busy": "2022-07-12T02:52:03.753891Z",
     "iopub.status.idle": "2022-07-12T02:52:03.760220Z",
     "shell.execute_reply": "2022-07-12T02:52:03.758723Z"
    },
    "papermill": {
     "duration": 0.020878,
     "end_time": "2022-07-12T02:52:03.762701",
     "exception": false,
     "start_time": "2022-07-12T02:52:03.741823",
     "status": "completed"
    },
    "tags": []
   },
   "outputs": [
    {
     "name": "stdout",
     "output_type": "stream",
     "text": [
      "Time Taken (seconds): 10408.925993919373\n"
     ]
    }
   ],
   "source": [
    "# record time taken out of curiosity\n",
    "end = time.time()\n",
    "print(\"Time Taken (seconds):\", end-start)"
   ]
  }
 ],
 "metadata": {
  "kernelspec": {
   "display_name": "Python 3 (ipykernel)",
   "language": "python",
   "name": "python3"
  },
  "language_info": {
   "codemirror_mode": {
    "name": "ipython",
    "version": 3
   },
   "file_extension": ".py",
   "mimetype": "text/x-python",
   "name": "python",
   "nbconvert_exporter": "python",
   "pygments_lexer": "ipython3",
   "version": "3.11.3"
  },
  "papermill": {
   "default_parameters": {},
   "duration": 10423.362611,
   "end_time": "2022-07-12T02:52:06.413396",
   "environment_variables": {},
   "exception": null,
   "input_path": "__notebook__.ipynb",
   "output_path": "__notebook__.ipynb",
   "parameters": {},
   "start_time": "2022-07-11T23:58:23.050785",
   "version": "2.3.4"
  }
 },
 "nbformat": 4,
 "nbformat_minor": 5
}
